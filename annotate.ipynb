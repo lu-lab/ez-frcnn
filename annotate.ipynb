{
 "cells": [
  {
   "cell_type": "markdown",
   "id": "e9555fa0-513b-450e-bd60-c0c2675d85cb",
   "metadata": {},
   "source": [
    "# Annotator Script\n",
    "## This cell will open the \"annotations\" folder with a bounding box annotator. Define the classes you would like to annotate for in the 'classes' variable and run the cell below to begin annotating. \n",
    "### After labeling, don't forget to hit submit to save your annotations!\n",
    "### Click and drag to draw bounding boxes\n",
    "### Use keys 1-10 to select the class of the bounding box you would like to draw"
   ]
  },
  {
   "cell_type": "code",
   "execution_count": null,
   "id": "961b74d8",
   "metadata": {},
   "outputs": [],
   "source": [
    "from library import init_annotations, split_images_and_xml"
   ]
  },
  {
   "cell_type": "code",
   "execution_count": null,
   "id": "dc7323fd-c1e3-4ea4-bbf7-c1401f7ff6ff",
   "metadata": {
    "scrolled": false
   },
   "outputs": [],
   "source": [
    "classes = ['frog']\n",
    "display(init_annotations(classes))"
   ]
  },
  {
   "cell_type": "markdown",
   "id": "fb19fe13",
   "metadata": {},
   "source": [
    "# Data Shuffler\n",
    "## After all images are annotated, run the cell below to randomly seperate your data into a training/validation split and copy the images and annotations into './images/train' and './images/test' respectively. \n",
    "### Only run after all images you want to use are annotated\n",
    "### Edit 'test_ratio' to change the validation:training ratio. By default this is set to 0.1"
   ]
  },
  {
   "cell_type": "code",
   "execution_count": null,
   "id": "113d692b",
   "metadata": {},
   "outputs": [],
   "source": [
    "source_folder = './annotations/'\n",
    "test_ratio=0.1\n",
    "split_images_and_xml(source_folder=source_folder, test_ratio=test_ratio)"
   ]
  }
 ],
 "metadata": {
  "kernelspec": {
   "display_name": "Python 3 (ipykernel)",
   "language": "python",
   "name": "python3"
  },
  "language_info": {
   "codemirror_mode": {
    "name": "ipython",
    "version": 3
   },
   "file_extension": ".py",
   "mimetype": "text/x-python",
   "name": "python",
   "nbconvert_exporter": "python",
   "pygments_lexer": "ipython3",
   "version": "3.10.13"
  }
 },
 "nbformat": 4,
 "nbformat_minor": 5
}
